{
 "cells": [
  {
   "cell_type": "code",
   "execution_count": 1,
   "metadata": {
    "collapsed": false
   },
   "outputs": [
    {
     "name": "stdout",
     "output_type": "stream",
     "text": [
      "Current balance: 0.00\n",
      "Current available credit: 1000.00\n",
      "Current pay period: 0\n",
      "Credit line APR: 35.0%\n",
      "Date opened: 2016-01-21\n",
      "Interest Owed: 0.00\n",
      "Total Amount Owed: 0.00\n",
      "\n",
      "Transaction History:\n",
      "{0: {'new_balance': [], 'amount': [], 'new_limit': [], 'day': [], 'transaction_type': []}}\n"
     ]
    }
   ],
   "source": [
    "#Demonstration of the LineOfCredit implementation\n",
    "\n",
    "import lineofcredit as lc\n",
    "\n",
    "#Print info on the new credit line\n",
    "def show_account_info(line):\n",
    "    \"\"\"Function to show current account info.\"\"\"\n",
    "    print \"Current balance: {:.2f}\".format(line.current_balance)\n",
    "    print \"Current available credit: {:.2f}\".format(line.current_limit)\n",
    "    print \"Current pay period: {0}\".format(line.current_period)\n",
    "    print \"Credit line APR: {:.1f}%\".format(line.APR)\n",
    "    print \"Date opened: {0}\".format(line.DATE_OPENED)\n",
    "    print \"Interest Owed: {:.2f}\".format(line.interest_owed)\n",
    "    print \"Total Amount Owed: {:.2f}\".format(line.get_total_amount_owed())\n",
    "    print \"\\nTransaction History:\"\n",
    "    print line.transaction_history\n",
    "    \n",
    "#Initialize a new line of credit\n",
    "limit =1000\n",
    "apr = 35\n",
    "line = lc.LineOfCredit(limit,apr)\n",
    "\n",
    "show_account_info(line)\n"
   ]
  },
  {
   "cell_type": "code",
   "execution_count": 2,
   "metadata": {
    "collapsed": false
   },
   "outputs": [
    {
     "name": "stdout",
     "output_type": "stream",
     "text": [
      "14.38\n",
      "514.38\n",
      "Current balance: 500.00\n",
      "Current available credit: 500.00\n",
      "Current pay period: 1\n",
      "Credit line APR: 35.0%\n",
      "Date opened: 2016-01-21\n",
      "Interest Owed: 14.38\n",
      "Total Amount Owed: 514.38\n",
      "\n",
      "Transaction History:\n",
      "{0: {'new_balance': [500], 'amount': [500], 'new_limit': [500], 'day': [0], 'transaction_type': ['withdraw']}, 1: {'new_balance': [], 'amount': [], 'new_limit': [], 'day': [], 'transaction_type': []}}\n"
     ]
    }
   ],
   "source": [
    "#Scenario 1: limit = $1000, APR = 35%\n",
    "\n",
    "# Withdraw $500 on day 0\n",
    "line = lc.LineOfCredit(1000,35)\n",
    "line.withdraw(0,500)\n",
    "\n",
    "# Calculate interest accrued when pay period ends\n",
    "line.close_current_period()\n",
    "print line.interest_owed\n",
    "print line.get_total_amount_owed()\n",
    "show_account_info(line)"
   ]
  },
  {
   "cell_type": "code",
   "execution_count": 3,
   "metadata": {
    "collapsed": false
   },
   "outputs": [
    {
     "name": "stdout",
     "output_type": "stream",
     "text": [
      "11.99\n",
      "411.99\n",
      "Current balance: 400.00\n",
      "Current available credit: 600.00\n",
      "Current pay period: 1\n",
      "Credit line APR: 35.0%\n",
      "Date opened: 2016-01-21\n",
      "Interest Owed: 11.99\n",
      "Total Amount Owed: 411.99\n",
      "\n",
      "Transaction History:\n",
      "{0: {'new_balance': [500, 300, 400], 'amount': [500, 200, 100], 'new_limit': [500, 700, 600], 'day': [0, 15, 25], 'transaction_type': ['withdraw', 'payment', 'withdraw']}, 1: {'new_balance': [], 'amount': [], 'new_limit': [], 'day': [], 'transaction_type': []}}\n",
      "None\n"
     ]
    }
   ],
   "source": [
    "# Scenario 2: limit = $1000, APR = 35%\n",
    "\n",
    "# Withdraw $500 on day 0\n",
    "# Payment of $200 on day 15\n",
    "# Withdraw $100 on day 25\n",
    "line2 = lc.LineOfCredit(1000,35)\n",
    "line2.withdraw(0,500)\n",
    "line2.payment(15,200)\n",
    "line2.withdraw(25,100)\n",
    "\n",
    "#Calculate interest accrued when pay period ends\n",
    "line2.close_current_period()\n",
    "print line2.interest_owed\n",
    "print line2.get_total_amount_owed()\n",
    "print show_account_info(line2)"
   ]
  },
  {
   "cell_type": "code",
   "execution_count": null,
   "metadata": {
    "collapsed": true
   },
   "outputs": [],
   "source": []
  }
 ],
 "metadata": {
  "kernelspec": {
   "display_name": "Python 2",
   "language": "python",
   "name": "python2"
  },
  "language_info": {
   "codemirror_mode": {
    "name": "ipython",
    "version": 2
   },
   "file_extension": ".py",
   "mimetype": "text/x-python",
   "name": "python",
   "nbconvert_exporter": "python",
   "pygments_lexer": "ipython2",
   "version": "2.7.11"
  }
 },
 "nbformat": 4,
 "nbformat_minor": 0
}
